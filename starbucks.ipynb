{
  "nbformat": 4,
  "nbformat_minor": 0,
  "metadata": {
    "colab": {
      "name": "starbucks.ipynb",
      "provenance": [],
      "include_colab_link": true
    },
    "kernelspec": {
      "name": "python3",
      "display_name": "Python 3"
    }
  },
  "cells": [
    {
      "cell_type": "markdown",
      "metadata": {
        "id": "view-in-github",
        "colab_type": "text"
      },
      "source": [
        "<a href=\"https://colab.research.google.com/github/Leebro91/Python/blob/master/starbucks.ipynb\" target=\"_parent\"><img src=\"https://colab.research.google.com/assets/colab-badge.svg\" alt=\"Open In Colab\"/></a>"
      ]
    },
    {
      "cell_type": "code",
      "metadata": {
        "id": "ZKON4-EN1SaW"
      },
      "source": [
        "# 스타벅스는 어떤 전략으로 매장입지를 선택할까...\n",
        "\n",
        "# 2가지 가설 \n",
        "# 1. 거주 인구가 많은 지역에 스타벅스 매장이 많이 입지해 있을 것이다. \n",
        "# 2. 직장인이 많은 지역에 스타벅스 매장이 많이 입지해 있을 것이다. \n",
        "\n"
      ],
      "execution_count": null,
      "outputs": []
    },
    {
      "cell_type": "code",
      "metadata": {
        "colab": {
          "base_uri": "https://localhost:8080/"
        },
        "id": "BsAeRl0w34Yq",
        "outputId": "4bf82276-3c44-4b06-ecb2-0aecf04ec595"
      },
      "source": [
        "! pip install selenium\n",
        "! pip install bs4"
      ],
      "execution_count": null,
      "outputs": [
        {
          "output_type": "stream",
          "text": [
            "Collecting selenium\n",
            "\u001b[?25l  Downloading https://files.pythonhosted.org/packages/80/d6/4294f0b4bce4de0abf13e17190289f9d0613b0a44e5dd6a7f5ca98459853/selenium-3.141.0-py2.py3-none-any.whl (904kB)\n",
            "\r\u001b[K     |▍                               | 10kB 17.4MB/s eta 0:00:01\r\u001b[K     |▊                               | 20kB 19.5MB/s eta 0:00:01\r\u001b[K     |█                               | 30kB 10.6MB/s eta 0:00:01\r\u001b[K     |█▌                              | 40kB 9.3MB/s eta 0:00:01\r\u001b[K     |█▉                              | 51kB 6.6MB/s eta 0:00:01\r\u001b[K     |██▏                             | 61kB 7.0MB/s eta 0:00:01\r\u001b[K     |██▌                             | 71kB 7.6MB/s eta 0:00:01\r\u001b[K     |███                             | 81kB 7.7MB/s eta 0:00:01\r\u001b[K     |███▎                            | 92kB 8.0MB/s eta 0:00:01\r\u001b[K     |███▋                            | 102kB 7.9MB/s eta 0:00:01\r\u001b[K     |████                            | 112kB 7.9MB/s eta 0:00:01\r\u001b[K     |████▍                           | 122kB 7.9MB/s eta 0:00:01\r\u001b[K     |████▊                           | 133kB 7.9MB/s eta 0:00:01\r\u001b[K     |█████                           | 143kB 7.9MB/s eta 0:00:01\r\u001b[K     |█████▍                          | 153kB 7.9MB/s eta 0:00:01\r\u001b[K     |█████▉                          | 163kB 7.9MB/s eta 0:00:01\r\u001b[K     |██████▏                         | 174kB 7.9MB/s eta 0:00:01\r\u001b[K     |██████▌                         | 184kB 7.9MB/s eta 0:00:01\r\u001b[K     |██████▉                         | 194kB 7.9MB/s eta 0:00:01\r\u001b[K     |███████▎                        | 204kB 7.9MB/s eta 0:00:01\r\u001b[K     |███████▋                        | 215kB 7.9MB/s eta 0:00:01\r\u001b[K     |████████                        | 225kB 7.9MB/s eta 0:00:01\r\u001b[K     |████████▎                       | 235kB 7.9MB/s eta 0:00:01\r\u001b[K     |████████▊                       | 245kB 7.9MB/s eta 0:00:01\r\u001b[K     |█████████                       | 256kB 7.9MB/s eta 0:00:01\r\u001b[K     |█████████▍                      | 266kB 7.9MB/s eta 0:00:01\r\u001b[K     |█████████▉                      | 276kB 7.9MB/s eta 0:00:01\r\u001b[K     |██████████▏                     | 286kB 7.9MB/s eta 0:00:01\r\u001b[K     |██████████▌                     | 296kB 7.9MB/s eta 0:00:01\r\u001b[K     |██████████▉                     | 307kB 7.9MB/s eta 0:00:01\r\u001b[K     |███████████▎                    | 317kB 7.9MB/s eta 0:00:01\r\u001b[K     |███████████▋                    | 327kB 7.9MB/s eta 0:00:01\r\u001b[K     |████████████                    | 337kB 7.9MB/s eta 0:00:01\r\u001b[K     |████████████▎                   | 348kB 7.9MB/s eta 0:00:01\r\u001b[K     |████████████▊                   | 358kB 7.9MB/s eta 0:00:01\r\u001b[K     |█████████████                   | 368kB 7.9MB/s eta 0:00:01\r\u001b[K     |█████████████▍                  | 378kB 7.9MB/s eta 0:00:01\r\u001b[K     |█████████████▊                  | 389kB 7.9MB/s eta 0:00:01\r\u001b[K     |██████████████▏                 | 399kB 7.9MB/s eta 0:00:01\r\u001b[K     |██████████████▌                 | 409kB 7.9MB/s eta 0:00:01\r\u001b[K     |██████████████▉                 | 419kB 7.9MB/s eta 0:00:01\r\u001b[K     |███████████████▏                | 430kB 7.9MB/s eta 0:00:01\r\u001b[K     |███████████████▋                | 440kB 7.9MB/s eta 0:00:01\r\u001b[K     |████████████████                | 450kB 7.9MB/s eta 0:00:01\r\u001b[K     |████████████████▎               | 460kB 7.9MB/s eta 0:00:01\r\u001b[K     |████████████████▋               | 471kB 7.9MB/s eta 0:00:01\r\u001b[K     |█████████████████               | 481kB 7.9MB/s eta 0:00:01\r\u001b[K     |█████████████████▍              | 491kB 7.9MB/s eta 0:00:01\r\u001b[K     |█████████████████▊              | 501kB 7.9MB/s eta 0:00:01\r\u001b[K     |██████████████████▏             | 512kB 7.9MB/s eta 0:00:01\r\u001b[K     |██████████████████▌             | 522kB 7.9MB/s eta 0:00:01\r\u001b[K     |██████████████████▉             | 532kB 7.9MB/s eta 0:00:01\r\u001b[K     |███████████████████▏            | 542kB 7.9MB/s eta 0:00:01\r\u001b[K     |███████████████████▋            | 552kB 7.9MB/s eta 0:00:01\r\u001b[K     |████████████████████            | 563kB 7.9MB/s eta 0:00:01\r\u001b[K     |████████████████████▎           | 573kB 7.9MB/s eta 0:00:01\r\u001b[K     |████████████████████▋           | 583kB 7.9MB/s eta 0:00:01\r\u001b[K     |█████████████████████           | 593kB 7.9MB/s eta 0:00:01\r\u001b[K     |█████████████████████▍          | 604kB 7.9MB/s eta 0:00:01\r\u001b[K     |█████████████████████▊          | 614kB 7.9MB/s eta 0:00:01\r\u001b[K     |██████████████████████          | 624kB 7.9MB/s eta 0:00:01\r\u001b[K     |██████████████████████▌         | 634kB 7.9MB/s eta 0:00:01\r\u001b[K     |██████████████████████▉         | 645kB 7.9MB/s eta 0:00:01\r\u001b[K     |███████████████████████▏        | 655kB 7.9MB/s eta 0:00:01\r\u001b[K     |███████████████████████▌        | 665kB 7.9MB/s eta 0:00:01\r\u001b[K     |████████████████████████        | 675kB 7.9MB/s eta 0:00:01\r\u001b[K     |████████████████████████▎       | 686kB 7.9MB/s eta 0:00:01\r\u001b[K     |████████████████████████▋       | 696kB 7.9MB/s eta 0:00:01\r\u001b[K     |█████████████████████████       | 706kB 7.9MB/s eta 0:00:01\r\u001b[K     |█████████████████████████▍      | 716kB 7.9MB/s eta 0:00:01\r\u001b[K     |█████████████████████████▊      | 727kB 7.9MB/s eta 0:00:01\r\u001b[K     |██████████████████████████      | 737kB 7.9MB/s eta 0:00:01\r\u001b[K     |██████████████████████████▍     | 747kB 7.9MB/s eta 0:00:01\r\u001b[K     |██████████████████████████▉     | 757kB 7.9MB/s eta 0:00:01\r\u001b[K     |███████████████████████████▏    | 768kB 7.9MB/s eta 0:00:01\r\u001b[K     |███████████████████████████▌    | 778kB 7.9MB/s eta 0:00:01\r\u001b[K     |████████████████████████████    | 788kB 7.9MB/s eta 0:00:01\r\u001b[K     |████████████████████████████▎   | 798kB 7.9MB/s eta 0:00:01\r\u001b[K     |████████████████████████████▋   | 808kB 7.9MB/s eta 0:00:01\r\u001b[K     |█████████████████████████████   | 819kB 7.9MB/s eta 0:00:01\r\u001b[K     |█████████████████████████████▍  | 829kB 7.9MB/s eta 0:00:01\r\u001b[K     |█████████████████████████████▊  | 839kB 7.9MB/s eta 0:00:01\r\u001b[K     |██████████████████████████████  | 849kB 7.9MB/s eta 0:00:01\r\u001b[K     |██████████████████████████████▍ | 860kB 7.9MB/s eta 0:00:01\r\u001b[K     |██████████████████████████████▉ | 870kB 7.9MB/s eta 0:00:01\r\u001b[K     |███████████████████████████████▏| 880kB 7.9MB/s eta 0:00:01\r\u001b[K     |███████████████████████████████▌| 890kB 7.9MB/s eta 0:00:01\r\u001b[K     |███████████████████████████████▉| 901kB 7.9MB/s eta 0:00:01\r\u001b[K     |████████████████████████████████| 911kB 7.9MB/s \n",
            "\u001b[?25hRequirement already satisfied: urllib3 in /usr/local/lib/python3.6/dist-packages (from selenium) (1.24.3)\n",
            "Installing collected packages: selenium\n",
            "Successfully installed selenium-3.141.0\n",
            "Requirement already satisfied: bs4 in /usr/local/lib/python3.6/dist-packages (0.0.1)\n",
            "Requirement already satisfied: beautifulsoup4 in /usr/local/lib/python3.6/dist-packages (from bs4) (4.6.3)\n"
          ],
          "name": "stdout"
        }
      ]
    },
    {
      "cell_type": "code",
      "metadata": {
        "id": "90-QT2-n2V6z"
      },
      "source": [
        "#1. 데이터 수집 (스타벅스 위치 , 인구통계 데이터 수집)\n",
        "\n",
        "from selenium import webdriver\n",
        "from bs4 import BeautifulSoup\n",
        "import pandas as pd\n"
      ],
      "execution_count": null,
      "outputs": []
    },
    {
      "cell_type": "code",
      "metadata": {
        "colab": {
          "base_uri": "https://localhost:8080/"
        },
        "id": "_Zm7zyHX4MXI",
        "outputId": "54154df7-1f01-4485-a575-e3f79bf4e704"
      },
      "source": [
        "# browser = webdriver.Chrome('chromedriver.exe')  # 윈도우용\n",
        "\n",
        "!apt install chromium-chromedriver\n",
        "\n"
      ],
      "execution_count": null,
      "outputs": [
        {
          "output_type": "stream",
          "text": [
            "Reading package lists... Done\n",
            "Building dependency tree       \n",
            "Reading state information... Done\n",
            "chromium-chromedriver is already the newest version (87.0.4280.66-0ubuntu0.18.04.1).\n",
            "0 upgraded, 0 newly installed, 0 to remove and 14 not upgraded.\n"
          ],
          "name": "stdout"
        }
      ]
    },
    {
      "cell_type": "code",
      "metadata": {
        "id": "ZEpLM-wn7lyz"
      },
      "source": [
        "chrome_options = webdriver.ChromeOptions()\n"
      ],
      "execution_count": null,
      "outputs": []
    },
    {
      "cell_type": "code",
      "metadata": {
        "colab": {
          "base_uri": "https://localhost:8080/"
        },
        "id": "Xx7Ofrs07tj6",
        "outputId": "39784cad-e212-445d-dd7e-89c47d8f9b43"
      },
      "source": [
        "\n",
        "chrome_options.add_argument('--headless')\n",
        "chrome_options.add_argument('--no-sandbox')\n",
        "chrome_options.add_argument('--disable-dev-shm-usage')\n",
        "driver = webdriver.Chrome('chromedriver',chrome_options=chrome_options)"
      ],
      "execution_count": null,
      "outputs": [
        {
          "output_type": "stream",
          "text": [
            "/usr/local/lib/python3.6/dist-packages/ipykernel_launcher.py:5: DeprecationWarning: use options instead of chrome_options\n",
            "  \"\"\"\n"
          ],
          "name": "stderr"
        }
      ]
    },
    {
      "cell_type": "code",
      "metadata": {
        "id": "Ho3SaJrl49oL"
      },
      "source": [
        "\n",
        "url = 'https://www.starbucks.co.kr/store/store_map.do'\n",
        "driver.get(url)"
      ],
      "execution_count": null,
      "outputs": []
    }
  ]
}